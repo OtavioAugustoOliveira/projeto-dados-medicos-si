{
  "cells": [
    {
      "cell_type": "code",
      "execution_count": 1,
      "metadata": {},
      "outputs": [
        {
          "data": {
            "text/plain": [
              "'\\napt install python3-pip\\npip install -r requirements.txt\\n\\n'"
            ]
          },
          "execution_count": 1,
          "metadata": {},
          "output_type": "execute_result"
        }
      ],
      "source": [
        "'''\n",
        "apt install python3-pip\n",
        "pip install -r requirements.txt\n",
        "\n",
        "'''"
      ]
    },
    {
      "cell_type": "code",
      "execution_count": 2,
      "metadata": {
        "colab": {
          "base_uri": "https://localhost:8080/",
          "height": 348
        },
        "id": "7BEFdoXjprJi",
        "outputId": "8c3ccfd4-c41a-42b4-9dc1-8e94ac91aa58"
      },
      "outputs": [],
      "source": [
        "import pandas as pd\n",
        "import matplotlib.pyplot as plt\n",
        "from datetime import datetime\n"
      ]
    },
    {
      "cell_type": "code",
      "execution_count": 3,
      "metadata": {
        "id": "nQuu3-E-qg6h"
      },
      "outputs": [
        {
          "name": "stderr",
          "output_type": "stream",
          "text": [
            "C:\\Users\\OtávioOliveira\\AppData\\Local\\Temp\\ipykernel_7376\\138030827.py:1: DtypeWarning: Columns (74) have mixed types. Specify dtype option on import or set low_memory=False.\n",
            "  df = pd.read_csv('INFLUD18.csv', sep = ';', encoding = 'ISO-8859-1')\n"
          ]
        }
      ],
      "source": [
        "df = pd.read_csv('INFLUD18.csv', sep = ';', encoding = 'ISO-8859-1')"
      ]
    },
    {
      "cell_type": "code",
      "execution_count": 4,
      "metadata": {
        "id": "KDUDsdX7tqZT"
      },
      "outputs": [
        {
          "data": {
            "text/html": [
              "<div>\n",
              "<style scoped>\n",
              "    .dataframe tbody tr th:only-of-type {\n",
              "        vertical-align: middle;\n",
              "    }\n",
              "\n",
              "    .dataframe tbody tr th {\n",
              "        vertical-align: top;\n",
              "    }\n",
              "\n",
              "    .dataframe thead th {\n",
              "        text-align: right;\n",
              "    }\n",
              "</style>\n",
              "<table border=\"1\" class=\"dataframe\">\n",
              "  <thead>\n",
              "    <tr style=\"text-align: right;\">\n",
              "      <th></th>\n",
              "      <th>DT_NOTIFIC</th>\n",
              "      <th>ID_MUNICIP</th>\n",
              "      <th>SEM_NOT</th>\n",
              "      <th>NU_ANO</th>\n",
              "      <th>SG_UF_NOT</th>\n",
              "      <th>DT_SIN_PRI</th>\n",
              "      <th>DT_NASC</th>\n",
              "      <th>NU_IDADE_N</th>\n",
              "      <th>CS_SEXO</th>\n",
              "      <th>CS_GESTANT</th>\n",
              "      <th>...</th>\n",
              "      <th>RES_PARA2</th>\n",
              "      <th>RES_PARA3</th>\n",
              "      <th>DESC_RESP</th>\n",
              "      <th>SATURACAO</th>\n",
              "      <th>ST_TIPOFI</th>\n",
              "      <th>TIPO_PCR</th>\n",
              "      <th>ANTIVIRAL</th>\n",
              "      <th>SUPORT_VEN</th>\n",
              "      <th>RES_VSR</th>\n",
              "      <th>RES_FLUASU</th>\n",
              "    </tr>\n",
              "  </thead>\n",
              "  <tbody>\n",
              "    <tr>\n",
              "      <th>0</th>\n",
              "      <td>27/04/2018</td>\n",
              "      <td>110001</td>\n",
              "      <td>201817</td>\n",
              "      <td>2018</td>\n",
              "      <td>11</td>\n",
              "      <td>27/04/2018</td>\n",
              "      <td>22/02/1983</td>\n",
              "      <td>4035</td>\n",
              "      <td>F</td>\n",
              "      <td>5.0</td>\n",
              "      <td>...</td>\n",
              "      <td>NaN</td>\n",
              "      <td>NaN</td>\n",
              "      <td>1.0</td>\n",
              "      <td>2.0</td>\n",
              "      <td>2</td>\n",
              "      <td>NaN</td>\n",
              "      <td>1.0</td>\n",
              "      <td>1.0</td>\n",
              "      <td>NaN</td>\n",
              "      <td>NaN</td>\n",
              "    </tr>\n",
              "    <tr>\n",
              "      <th>1</th>\n",
              "      <td>19/04/2018</td>\n",
              "      <td>110001</td>\n",
              "      <td>201816</td>\n",
              "      <td>2018</td>\n",
              "      <td>11</td>\n",
              "      <td>15/04/2018</td>\n",
              "      <td>16/08/2014</td>\n",
              "      <td>4003</td>\n",
              "      <td>M</td>\n",
              "      <td>6.0</td>\n",
              "      <td>...</td>\n",
              "      <td>NaN</td>\n",
              "      <td>NaN</td>\n",
              "      <td>1.0</td>\n",
              "      <td>2.0</td>\n",
              "      <td>2</td>\n",
              "      <td>NaN</td>\n",
              "      <td>1.0</td>\n",
              "      <td>1.0</td>\n",
              "      <td>NaN</td>\n",
              "      <td>NaN</td>\n",
              "    </tr>\n",
              "    <tr>\n",
              "      <th>2</th>\n",
              "      <td>27/04/2018</td>\n",
              "      <td>110001</td>\n",
              "      <td>201817</td>\n",
              "      <td>2018</td>\n",
              "      <td>11</td>\n",
              "      <td>20/04/2018</td>\n",
              "      <td>26/01/2003</td>\n",
              "      <td>4015</td>\n",
              "      <td>F</td>\n",
              "      <td>5.0</td>\n",
              "      <td>...</td>\n",
              "      <td>NaN</td>\n",
              "      <td>NaN</td>\n",
              "      <td>1.0</td>\n",
              "      <td>2.0</td>\n",
              "      <td>2</td>\n",
              "      <td>NaN</td>\n",
              "      <td>NaN</td>\n",
              "      <td>1.0</td>\n",
              "      <td>NaN</td>\n",
              "      <td>NaN</td>\n",
              "    </tr>\n",
              "    <tr>\n",
              "      <th>3</th>\n",
              "      <td>12/04/2018</td>\n",
              "      <td>110001</td>\n",
              "      <td>201815</td>\n",
              "      <td>2018</td>\n",
              "      <td>11</td>\n",
              "      <td>09/04/2018</td>\n",
              "      <td>17/09/2016</td>\n",
              "      <td>4001</td>\n",
              "      <td>F</td>\n",
              "      <td>6.0</td>\n",
              "      <td>...</td>\n",
              "      <td>NaN</td>\n",
              "      <td>NaN</td>\n",
              "      <td>1.0</td>\n",
              "      <td>2.0</td>\n",
              "      <td>2</td>\n",
              "      <td>NaN</td>\n",
              "      <td>1.0</td>\n",
              "      <td>3.0</td>\n",
              "      <td>NaN</td>\n",
              "      <td>NaN</td>\n",
              "    </tr>\n",
              "    <tr>\n",
              "      <th>4</th>\n",
              "      <td>19/04/2018</td>\n",
              "      <td>110001</td>\n",
              "      <td>201816</td>\n",
              "      <td>2018</td>\n",
              "      <td>11</td>\n",
              "      <td>15/04/2018</td>\n",
              "      <td>09/02/2018</td>\n",
              "      <td>3002</td>\n",
              "      <td>M</td>\n",
              "      <td>6.0</td>\n",
              "      <td>...</td>\n",
              "      <td>NaN</td>\n",
              "      <td>NaN</td>\n",
              "      <td>1.0</td>\n",
              "      <td>2.0</td>\n",
              "      <td>2</td>\n",
              "      <td>NaN</td>\n",
              "      <td>1.0</td>\n",
              "      <td>1.0</td>\n",
              "      <td>NaN</td>\n",
              "      <td>NaN</td>\n",
              "    </tr>\n",
              "  </tbody>\n",
              "</table>\n",
              "<p>5 rows × 108 columns</p>\n",
              "</div>"
            ],
            "text/plain": [
              "   DT_NOTIFIC  ID_MUNICIP  SEM_NOT  NU_ANO  SG_UF_NOT  DT_SIN_PRI     DT_NASC  \\\n",
              "0  27/04/2018      110001   201817    2018         11  27/04/2018  22/02/1983   \n",
              "1  19/04/2018      110001   201816    2018         11  15/04/2018  16/08/2014   \n",
              "2  27/04/2018      110001   201817    2018         11  20/04/2018  26/01/2003   \n",
              "3  12/04/2018      110001   201815    2018         11  09/04/2018  17/09/2016   \n",
              "4  19/04/2018      110001   201816    2018         11  15/04/2018  09/02/2018   \n",
              "\n",
              "   NU_IDADE_N CS_SEXO  CS_GESTANT  ...  RES_PARA2  RES_PARA3  DESC_RESP  \\\n",
              "0        4035       F         5.0  ...        NaN        NaN        1.0   \n",
              "1        4003       M         6.0  ...        NaN        NaN        1.0   \n",
              "2        4015       F         5.0  ...        NaN        NaN        1.0   \n",
              "3        4001       F         6.0  ...        NaN        NaN        1.0   \n",
              "4        3002       M         6.0  ...        NaN        NaN        1.0   \n",
              "\n",
              "   SATURACAO  ST_TIPOFI  TIPO_PCR  ANTIVIRAL  SUPORT_VEN  RES_VSR  RES_FLUASU  \n",
              "0        2.0          2       NaN        1.0         1.0      NaN         NaN  \n",
              "1        2.0          2       NaN        1.0         1.0      NaN         NaN  \n",
              "2        2.0          2       NaN        NaN         1.0      NaN         NaN  \n",
              "3        2.0          2       NaN        1.0         3.0      NaN         NaN  \n",
              "4        2.0          2       NaN        1.0         1.0      NaN         NaN  \n",
              "\n",
              "[5 rows x 108 columns]"
            ]
          },
          "execution_count": 4,
          "metadata": {},
          "output_type": "execute_result"
        }
      ],
      "source": [
        "df.head()"
      ]
    },
    {
      "cell_type": "markdown",
      "metadata": {
        "id": "9WSlWjnGWUW4"
      },
      "source": [
        "Pré-processamento dos dados"
      ]
    },
    {
      "cell_type": "code",
      "execution_count": 5,
      "metadata": {
        "id": "riyRml7338OM"
      },
      "outputs": [],
      "source": [
        "#elegemos a segintes variáveis como valiosas para nossa solução\n",
        "valuable_infos = ['VACINA','FEBRE','TOSSE','CALAFRIO','DISPNEIA','GARGANTA','ARTRALGIA','MIALGIA','CONJUNTIV','CORIZA','DIARREIA','CARDIOPATI','PNEUMOPATI','RENAL','HEMOGLOBI','IMUNODEPRE','TABAGISMO','METABOLICA','NU_IDADE_N', 'CLASSI_FIN']\n",
        "\n",
        "#removendo todas as colunas que não temos interesse\n",
        "for x in df:\n",
        "  if(not x in valuable_infos):\n",
        "    df = df.drop(x, axis='columns')\n",
        "\n",
        "#removendo todas as colunas com mais de 75% de ausência de dados\n",
        "for x in valuable_infos:\n",
        "  if(df[x].isnull().sum() > len(df)*3/4):\n",
        "    df = df.drop(x, axis='columns')"
      ]
    },
    {
      "cell_type": "code",
      "execution_count": 6,
      "metadata": {
        "id": "7TwTgfdf4vo8"
      },
      "outputs": [
        {
          "name": "stdout",
          "output_type": "stream",
          "text": [
            "   NU_IDADE_N  VACINA  FEBRE  TOSSE  DISPNEIA  GARGANTA  MIALGIA  CARDIOPATI  \\\n",
            "0        4035     2.0    1.0    2.0       1.0       2.0      1.0         2.0   \n",
            "1        4003     1.0    1.0    1.0       1.0       1.0      1.0         2.0   \n",
            "2        4015     2.0    1.0    1.0       1.0       2.0      1.0         2.0   \n",
            "3        4001     1.0    1.0    1.0       2.0       1.0      1.0         2.0   \n",
            "4        3002     2.0    1.0    2.0       2.0       2.0      1.0         2.0   \n",
            "\n",
            "   PNEUMOPATI  RENAL  IMUNODEPRE  METABOLICA  CLASSI_FIN  \n",
            "0         2.0    2.0         2.0         2.0         4.0  \n",
            "1         2.0    2.0         2.0         2.0         4.0  \n",
            "2         2.0    2.0         2.0         2.0         4.0  \n",
            "3         2.0    2.0         2.0         2.0         4.0  \n",
            "4         1.0    2.0         2.0         2.0         4.0  \n",
            "NU_IDADE_N       0\n",
            "VACINA         901\n",
            "FEBRE          220\n",
            "TOSSE          152\n",
            "DISPNEIA       328\n",
            "GARGANTA       898\n",
            "MIALGIA       1024\n",
            "CARDIOPATI     986\n",
            "PNEUMOPATI     991\n",
            "RENAL         1062\n",
            "IMUNODEPRE    1054\n",
            "METABOLICA    1159\n",
            "CLASSI_FIN    1381\n",
            "dtype: int64\n"
          ]
        }
      ],
      "source": [
        "print(df.head())\n",
        "print(df.isnull().sum())"
      ]
    },
    {
      "cell_type": "code",
      "execution_count": 7,
      "metadata": {
        "id": "5SBOyrgpq56c"
      },
      "outputs": [
        {
          "name": "stdout",
          "output_type": "stream",
          "text": [
            "   NU_IDADE_N  VACINA  FEBRE  TOSSE  DISPNEIA  GARGANTA  MIALGIA  CARDIOPATI  \\\n",
            "0        4035     2.0    1.0    2.0       1.0       2.0      1.0         2.0   \n",
            "1        4003     1.0    1.0    1.0       1.0       1.0      1.0         2.0   \n",
            "2        4015     2.0    1.0    1.0       1.0       2.0      1.0         2.0   \n",
            "3        4001     1.0    1.0    1.0       2.0       1.0      1.0         2.0   \n",
            "4        3002     2.0    1.0    2.0       2.0       2.0      1.0         2.0   \n",
            "\n",
            "   PNEUMOPATI  RENAL  IMUNODEPRE  METABOLICA  CLASSI_FIN  \n",
            "0         2.0    2.0         2.0         2.0         4.0  \n",
            "1         2.0    2.0         2.0         2.0         4.0  \n",
            "2         2.0    2.0         2.0         2.0         4.0  \n",
            "3         2.0    2.0         2.0         2.0         4.0  \n",
            "4         1.0    2.0         2.0         2.0         4.0  \n",
            "number of rows removed from datase 3963, ou seja, preservamos 0.92% do dataset\n"
          ]
        }
      ],
      "source": [
        "#como das colunas que restaram tivemos muito poucos dados ausentes,\n",
        "#decidimos simplesmente remover todas as linhas com alguma ausência\n",
        "initial_dataset_length = len(df)\n",
        "rows_to_be_removed = []\n",
        "for index, row in df.iterrows():\n",
        "  if(row.isnull().values.any()):\n",
        "    rows_to_be_removed.append(index)\n",
        "\n",
        "df = df.drop(index=rows_to_be_removed)\n",
        "df = df.reset_index(drop=True)\n",
        "print(df.head())\n",
        "\n",
        "current_dataset_length = len(df)\n",
        "n_removed_rows = initial_dataset_length - current_dataset_length\n",
        "percentage_preserved_rows = round(current_dataset_length/initial_dataset_length, 2)\n",
        "print(f'number of rows removed from datase {n_removed_rows}, ou seja, preservamos {percentage_preserved_rows}% do dataset')"
      ]
    },
    {
      "cell_type": "code",
      "execution_count": 8,
      "metadata": {
        "id": "yhxONNn2sgqA"
      },
      "outputs": [],
      "source": [
        "#Agora discretizaremos a coluna 'NU_IDADE_N' nas seguintes categorias:\n",
        "  # Bebê: até 1 ano de idade = 0\n",
        "  # Criança: 1 a 12 anos de idade = 1\n",
        "  # Adolescente: 13 a 18 anos de idade = 2\n",
        "  # Jovem adulto: 19 a 35 anos de idade = 3\n",
        "  # Adulto: 36 a 59 anos de idade = 4\n",
        "  # Idoso: 60 anos ou mais = 5\n",
        "\n",
        "def get_faixa_etaria(age_in_years):\n",
        "  if(age_in_years <= 12):\n",
        "    return 1\n",
        "  elif(age_in_years <= 18):\n",
        "    return 2\n",
        "  elif(age_in_years <= 35):\n",
        "    return 3\n",
        "  elif(age_in_years <= 59):\n",
        "    return 4\n",
        "  return 5\n",
        "\n",
        "faixa_etaria_col = []\n",
        "for index, row in df.iterrows():\n",
        "  age_var = int(row['NU_IDADE_N'])\n",
        "  if(age_var < 1000):\n",
        "    print('aaaaaaaa')\n",
        "  if(age_var < 4000):\n",
        "    faixa_etaria_col.append(0)\n",
        "    continue\n",
        "  \n",
        "  age_in_years = age_var - 4000\n",
        "  faixa_etaria_col.append(get_faixa_etaria(age_in_years))\n",
        "\n",
        "df['FAIXA_ETARIA'] = faixa_etaria_col\n"
      ]
    },
    {
      "cell_type": "code",
      "execution_count": 9,
      "metadata": {
        "id": "RUa7cOGiZYZo"
      },
      "outputs": [
        {
          "data": {
            "text/html": [
              "<div>\n",
              "<style scoped>\n",
              "    .dataframe tbody tr th:only-of-type {\n",
              "        vertical-align: middle;\n",
              "    }\n",
              "\n",
              "    .dataframe tbody tr th {\n",
              "        vertical-align: top;\n",
              "    }\n",
              "\n",
              "    .dataframe thead th {\n",
              "        text-align: right;\n",
              "    }\n",
              "</style>\n",
              "<table border=\"1\" class=\"dataframe\">\n",
              "  <thead>\n",
              "    <tr style=\"text-align: right;\">\n",
              "      <th></th>\n",
              "      <th>NU_IDADE_N</th>\n",
              "      <th>VACINA</th>\n",
              "      <th>FEBRE</th>\n",
              "      <th>TOSSE</th>\n",
              "      <th>DISPNEIA</th>\n",
              "      <th>GARGANTA</th>\n",
              "      <th>MIALGIA</th>\n",
              "      <th>CARDIOPATI</th>\n",
              "      <th>PNEUMOPATI</th>\n",
              "      <th>RENAL</th>\n",
              "      <th>IMUNODEPRE</th>\n",
              "      <th>METABOLICA</th>\n",
              "      <th>CLASSI_FIN</th>\n",
              "      <th>FAIXA_ETARIA</th>\n",
              "    </tr>\n",
              "  </thead>\n",
              "  <tbody>\n",
              "    <tr>\n",
              "      <th>0</th>\n",
              "      <td>4035</td>\n",
              "      <td>2.0</td>\n",
              "      <td>1.0</td>\n",
              "      <td>2.0</td>\n",
              "      <td>1.0</td>\n",
              "      <td>2.0</td>\n",
              "      <td>1.0</td>\n",
              "      <td>2.0</td>\n",
              "      <td>2.0</td>\n",
              "      <td>2.0</td>\n",
              "      <td>2.0</td>\n",
              "      <td>2.0</td>\n",
              "      <td>4.0</td>\n",
              "      <td>3</td>\n",
              "    </tr>\n",
              "    <tr>\n",
              "      <th>1</th>\n",
              "      <td>4003</td>\n",
              "      <td>1.0</td>\n",
              "      <td>1.0</td>\n",
              "      <td>1.0</td>\n",
              "      <td>1.0</td>\n",
              "      <td>1.0</td>\n",
              "      <td>1.0</td>\n",
              "      <td>2.0</td>\n",
              "      <td>2.0</td>\n",
              "      <td>2.0</td>\n",
              "      <td>2.0</td>\n",
              "      <td>2.0</td>\n",
              "      <td>4.0</td>\n",
              "      <td>1</td>\n",
              "    </tr>\n",
              "    <tr>\n",
              "      <th>2</th>\n",
              "      <td>4015</td>\n",
              "      <td>2.0</td>\n",
              "      <td>1.0</td>\n",
              "      <td>1.0</td>\n",
              "      <td>1.0</td>\n",
              "      <td>2.0</td>\n",
              "      <td>1.0</td>\n",
              "      <td>2.0</td>\n",
              "      <td>2.0</td>\n",
              "      <td>2.0</td>\n",
              "      <td>2.0</td>\n",
              "      <td>2.0</td>\n",
              "      <td>4.0</td>\n",
              "      <td>2</td>\n",
              "    </tr>\n",
              "    <tr>\n",
              "      <th>3</th>\n",
              "      <td>4001</td>\n",
              "      <td>1.0</td>\n",
              "      <td>1.0</td>\n",
              "      <td>1.0</td>\n",
              "      <td>2.0</td>\n",
              "      <td>1.0</td>\n",
              "      <td>1.0</td>\n",
              "      <td>2.0</td>\n",
              "      <td>2.0</td>\n",
              "      <td>2.0</td>\n",
              "      <td>2.0</td>\n",
              "      <td>2.0</td>\n",
              "      <td>4.0</td>\n",
              "      <td>1</td>\n",
              "    </tr>\n",
              "    <tr>\n",
              "      <th>4</th>\n",
              "      <td>3002</td>\n",
              "      <td>2.0</td>\n",
              "      <td>1.0</td>\n",
              "      <td>2.0</td>\n",
              "      <td>2.0</td>\n",
              "      <td>2.0</td>\n",
              "      <td>1.0</td>\n",
              "      <td>2.0</td>\n",
              "      <td>1.0</td>\n",
              "      <td>2.0</td>\n",
              "      <td>2.0</td>\n",
              "      <td>2.0</td>\n",
              "      <td>4.0</td>\n",
              "      <td>0</td>\n",
              "    </tr>\n",
              "    <tr>\n",
              "      <th>5</th>\n",
              "      <td>4003</td>\n",
              "      <td>1.0</td>\n",
              "      <td>1.0</td>\n",
              "      <td>1.0</td>\n",
              "      <td>1.0</td>\n",
              "      <td>1.0</td>\n",
              "      <td>1.0</td>\n",
              "      <td>2.0</td>\n",
              "      <td>2.0</td>\n",
              "      <td>2.0</td>\n",
              "      <td>2.0</td>\n",
              "      <td>2.0</td>\n",
              "      <td>4.0</td>\n",
              "      <td>1</td>\n",
              "    </tr>\n",
              "    <tr>\n",
              "      <th>6</th>\n",
              "      <td>4002</td>\n",
              "      <td>1.0</td>\n",
              "      <td>1.0</td>\n",
              "      <td>1.0</td>\n",
              "      <td>2.0</td>\n",
              "      <td>1.0</td>\n",
              "      <td>1.0</td>\n",
              "      <td>2.0</td>\n",
              "      <td>2.0</td>\n",
              "      <td>2.0</td>\n",
              "      <td>2.0</td>\n",
              "      <td>2.0</td>\n",
              "      <td>4.0</td>\n",
              "      <td>1</td>\n",
              "    </tr>\n",
              "    <tr>\n",
              "      <th>7</th>\n",
              "      <td>3005</td>\n",
              "      <td>9.0</td>\n",
              "      <td>1.0</td>\n",
              "      <td>2.0</td>\n",
              "      <td>1.0</td>\n",
              "      <td>2.0</td>\n",
              "      <td>2.0</td>\n",
              "      <td>2.0</td>\n",
              "      <td>2.0</td>\n",
              "      <td>2.0</td>\n",
              "      <td>2.0</td>\n",
              "      <td>2.0</td>\n",
              "      <td>4.0</td>\n",
              "      <td>0</td>\n",
              "    </tr>\n",
              "    <tr>\n",
              "      <th>8</th>\n",
              "      <td>4022</td>\n",
              "      <td>9.0</td>\n",
              "      <td>2.0</td>\n",
              "      <td>2.0</td>\n",
              "      <td>2.0</td>\n",
              "      <td>2.0</td>\n",
              "      <td>1.0</td>\n",
              "      <td>2.0</td>\n",
              "      <td>2.0</td>\n",
              "      <td>2.0</td>\n",
              "      <td>2.0</td>\n",
              "      <td>2.0</td>\n",
              "      <td>9.0</td>\n",
              "      <td>3</td>\n",
              "    </tr>\n",
              "    <tr>\n",
              "      <th>9</th>\n",
              "      <td>4001</td>\n",
              "      <td>1.0</td>\n",
              "      <td>1.0</td>\n",
              "      <td>1.0</td>\n",
              "      <td>1.0</td>\n",
              "      <td>1.0</td>\n",
              "      <td>1.0</td>\n",
              "      <td>2.0</td>\n",
              "      <td>2.0</td>\n",
              "      <td>2.0</td>\n",
              "      <td>2.0</td>\n",
              "      <td>2.0</td>\n",
              "      <td>4.0</td>\n",
              "      <td>1</td>\n",
              "    </tr>\n",
              "    <tr>\n",
              "      <th>10</th>\n",
              "      <td>4003</td>\n",
              "      <td>1.0</td>\n",
              "      <td>1.0</td>\n",
              "      <td>1.0</td>\n",
              "      <td>1.0</td>\n",
              "      <td>2.0</td>\n",
              "      <td>2.0</td>\n",
              "      <td>2.0</td>\n",
              "      <td>2.0</td>\n",
              "      <td>2.0</td>\n",
              "      <td>2.0</td>\n",
              "      <td>2.0</td>\n",
              "      <td>4.0</td>\n",
              "      <td>1</td>\n",
              "    </tr>\n",
              "    <tr>\n",
              "      <th>11</th>\n",
              "      <td>4002</td>\n",
              "      <td>9.0</td>\n",
              "      <td>1.0</td>\n",
              "      <td>1.0</td>\n",
              "      <td>1.0</td>\n",
              "      <td>2.0</td>\n",
              "      <td>2.0</td>\n",
              "      <td>2.0</td>\n",
              "      <td>2.0</td>\n",
              "      <td>2.0</td>\n",
              "      <td>2.0</td>\n",
              "      <td>2.0</td>\n",
              "      <td>4.0</td>\n",
              "      <td>1</td>\n",
              "    </tr>\n",
              "    <tr>\n",
              "      <th>12</th>\n",
              "      <td>4001</td>\n",
              "      <td>1.0</td>\n",
              "      <td>1.0</td>\n",
              "      <td>1.0</td>\n",
              "      <td>1.0</td>\n",
              "      <td>2.0</td>\n",
              "      <td>2.0</td>\n",
              "      <td>2.0</td>\n",
              "      <td>2.0</td>\n",
              "      <td>2.0</td>\n",
              "      <td>2.0</td>\n",
              "      <td>2.0</td>\n",
              "      <td>4.0</td>\n",
              "      <td>1</td>\n",
              "    </tr>\n",
              "    <tr>\n",
              "      <th>13</th>\n",
              "      <td>4005</td>\n",
              "      <td>1.0</td>\n",
              "      <td>1.0</td>\n",
              "      <td>1.0</td>\n",
              "      <td>1.0</td>\n",
              "      <td>1.0</td>\n",
              "      <td>1.0</td>\n",
              "      <td>2.0</td>\n",
              "      <td>2.0</td>\n",
              "      <td>2.0</td>\n",
              "      <td>2.0</td>\n",
              "      <td>2.0</td>\n",
              "      <td>4.0</td>\n",
              "      <td>1</td>\n",
              "    </tr>\n",
              "    <tr>\n",
              "      <th>14</th>\n",
              "      <td>4001</td>\n",
              "      <td>2.0</td>\n",
              "      <td>1.0</td>\n",
              "      <td>1.0</td>\n",
              "      <td>2.0</td>\n",
              "      <td>2.0</td>\n",
              "      <td>2.0</td>\n",
              "      <td>2.0</td>\n",
              "      <td>2.0</td>\n",
              "      <td>2.0</td>\n",
              "      <td>2.0</td>\n",
              "      <td>2.0</td>\n",
              "      <td>4.0</td>\n",
              "      <td>1</td>\n",
              "    </tr>\n",
              "  </tbody>\n",
              "</table>\n",
              "</div>"
            ],
            "text/plain": [
              "    NU_IDADE_N  VACINA  FEBRE  TOSSE  DISPNEIA  GARGANTA  MIALGIA  CARDIOPATI  \\\n",
              "0         4035     2.0    1.0    2.0       1.0       2.0      1.0         2.0   \n",
              "1         4003     1.0    1.0    1.0       1.0       1.0      1.0         2.0   \n",
              "2         4015     2.0    1.0    1.0       1.0       2.0      1.0         2.0   \n",
              "3         4001     1.0    1.0    1.0       2.0       1.0      1.0         2.0   \n",
              "4         3002     2.0    1.0    2.0       2.0       2.0      1.0         2.0   \n",
              "5         4003     1.0    1.0    1.0       1.0       1.0      1.0         2.0   \n",
              "6         4002     1.0    1.0    1.0       2.0       1.0      1.0         2.0   \n",
              "7         3005     9.0    1.0    2.0       1.0       2.0      2.0         2.0   \n",
              "8         4022     9.0    2.0    2.0       2.0       2.0      1.0         2.0   \n",
              "9         4001     1.0    1.0    1.0       1.0       1.0      1.0         2.0   \n",
              "10        4003     1.0    1.0    1.0       1.0       2.0      2.0         2.0   \n",
              "11        4002     9.0    1.0    1.0       1.0       2.0      2.0         2.0   \n",
              "12        4001     1.0    1.0    1.0       1.0       2.0      2.0         2.0   \n",
              "13        4005     1.0    1.0    1.0       1.0       1.0      1.0         2.0   \n",
              "14        4001     2.0    1.0    1.0       2.0       2.0      2.0         2.0   \n",
              "\n",
              "    PNEUMOPATI  RENAL  IMUNODEPRE  METABOLICA  CLASSI_FIN  FAIXA_ETARIA  \n",
              "0          2.0    2.0         2.0         2.0         4.0             3  \n",
              "1          2.0    2.0         2.0         2.0         4.0             1  \n",
              "2          2.0    2.0         2.0         2.0         4.0             2  \n",
              "3          2.0    2.0         2.0         2.0         4.0             1  \n",
              "4          1.0    2.0         2.0         2.0         4.0             0  \n",
              "5          2.0    2.0         2.0         2.0         4.0             1  \n",
              "6          2.0    2.0         2.0         2.0         4.0             1  \n",
              "7          2.0    2.0         2.0         2.0         4.0             0  \n",
              "8          2.0    2.0         2.0         2.0         9.0             3  \n",
              "9          2.0    2.0         2.0         2.0         4.0             1  \n",
              "10         2.0    2.0         2.0         2.0         4.0             1  \n",
              "11         2.0    2.0         2.0         2.0         4.0             1  \n",
              "12         2.0    2.0         2.0         2.0         4.0             1  \n",
              "13         2.0    2.0         2.0         2.0         4.0             1  \n",
              "14         2.0    2.0         2.0         2.0         4.0             1  "
            ]
          },
          "execution_count": 9,
          "metadata": {},
          "output_type": "execute_result"
        }
      ],
      "source": [
        "df.head(15)"
      ]
    },
    {
      "cell_type": "code",
      "execution_count": 10,
      "metadata": {
        "id": "SSCuSLboZ7WI"
      },
      "outputs": [
        {
          "data": {
            "image/png": "[encoded data removed]",
            "text/plain": [
              "<Figure size 432x288 with 1 Axes>"
            ]
          },
          "metadata": {
            "needs_background": "light"
          },
          "output_type": "display_data"
        }
      ],
      "source": [
        "plt.hist(df['CLASSI_FIN'])\n",
        "plt.show() "
      ]
    },
    {
      "cell_type": "code",
      "execution_count": 11,
      "metadata": {
        "id": "I3fYVzYkaiRM"
      },
      "outputs": [
        {
          "name": "stdout",
          "output_type": "stream",
          "text": [
            "{0: 0, 1: 7893, 2: 8136, 3: 316, 4: 27295, 5: 0, 6: 0, 7: 0, 8: 0, 9: 153}\n",
            "35900\n"
          ]
        }
      ],
      "source": [
        "mp = {}\n",
        "for x in range(10):\n",
        "  mp[x] = 0\n",
        "\n",
        "for index, row in df.iterrows():\n",
        "  mp[row['CLASSI_FIN']] += 1\n",
        "\n",
        "print(mp)\n",
        "\n",
        "total = 0\n",
        "for x in mp:\n",
        "  if(x != 1):\n",
        "    total += mp[x]\n",
        "print(total)"
      ]
    },
    {
      "cell_type": "code",
      "execution_count": 12,
      "metadata": {
        "id": "Cz1dLsGniAb-"
      },
      "outputs": [
        {
          "name": "stdout",
          "output_type": "stream",
          "text": [
            "   VACINA  FEBRE  TOSSE  DISPNEIA  GARGANTA  MIALGIA  CARDIOPATI  PNEUMOPATI  \\\n",
            "0     2.0    1.0    2.0       1.0       2.0      1.0         2.0         2.0   \n",
            "1     1.0    1.0    1.0       1.0       1.0      1.0         2.0         2.0   \n",
            "2     2.0    1.0    1.0       1.0       2.0      1.0         2.0         2.0   \n",
            "3     1.0    1.0    1.0       2.0       1.0      1.0         2.0         2.0   \n",
            "4     2.0    1.0    2.0       2.0       2.0      1.0         2.0         1.0   \n",
            "\n",
            "   RENAL  IMUNODEPRE  METABOLICA  CLASSI_FIN  \n",
            "0    2.0         2.0         2.0         4.0  \n",
            "1    2.0         2.0         2.0         4.0  \n",
            "2    2.0         2.0         2.0         4.0  \n",
            "3    2.0         2.0         2.0         4.0  \n",
            "4    2.0         2.0         2.0         4.0  \n"
          ]
        }
      ],
      "source": [
        "important_cols = ['VACINA','FEBRE','TOSSE','DISPNEIA','GARGANTA','MIALGIA','CARDIOPATI','PNEUMOPATI','RENAL','IMUNODEPRE','METABOLICA','CLASSI_FIN', 'DT_NASC']\n",
        "\n",
        "for x in df:\n",
        "  if not x in important_cols:\n",
        "    df = df.drop(x, axis=1)\n",
        "\n",
        "rows_to_be_removed = []\n",
        "for index, row in df.iterrows():\n",
        "  if(row.isnull().values.any()):\n",
        "    # print(row)\n",
        "    # print(index)\n",
        "    rows_to_be_removed.append(index)\n",
        "\n",
        "df = df.drop(index=rows_to_be_removed)\n",
        "print(df.head())"
      ]
    },
    {
      "cell_type": "code",
      "execution_count": 13,
      "metadata": {
        "id": "gHBQ1zsDjsEO"
      },
      "outputs": [
        {
          "data": {
            "text/plain": [
              "43793"
            ]
          },
          "execution_count": 13,
          "metadata": {},
          "output_type": "execute_result"
        }
      ],
      "source": [
        "len(df)"
      ]
    },
    {
      "cell_type": "code",
      "execution_count": 14,
      "metadata": {
        "id": "JQAPikhUq8CP"
      },
      "outputs": [],
      "source": [
        "influenza_col = []\n",
        "\n",
        "for index, row in df.iterrows():\n",
        "  if(row['CLASSI_FIN'] == 1):\n",
        "    influenza_col.append(1)\n",
        "  else:\n",
        "    influenza_col.append(0)\n",
        "df['INFLUENZA'] = influenza_col\n",
        "df = df.drop('CLASSI_FIN', axis='columns')"
      ]
    },
    {
      "cell_type": "code",
      "execution_count": 15,
      "metadata": {
        "id": "4K7GoCeW8y5i"
      },
      "outputs": [
        {
          "name": "stdout",
          "output_type": "stream",
          "text": [
            "influenza: 7893, not influenza: 35900\n"
          ]
        }
      ],
      "source": [
        "influenza = 0\n",
        "not_influenza = 0\n",
        "for index,row in df.iterrows():\n",
        "  if(row['INFLUENZA'] == 1):\n",
        "    influenza += 1\n",
        "  else:\n",
        "    not_influenza += 1\n",
        "\n",
        "print(f'influenza: {influenza}, not influenza: {not_influenza}')"
      ]
    },
    {
      "cell_type": "code",
      "execution_count": 16,
      "metadata": {
        "id": "KYhykfy99iAr"
      },
      "outputs": [
        {
          "name": "stdout",
          "output_type": "stream",
          "text": [
            "VACINA\n"
          ]
        },
        {
          "data": {
            "image/png": "[encoded data removed]",
            "text/plain": [
              "<Figure size 432x288 with 1 Axes>"
            ]
          },
          "metadata": {
            "needs_background": "light"
          },
          "output_type": "display_data"
        },
        {
          "name": "stdout",
          "output_type": "stream",
          "text": [
            "FEBRE\n"
          ]
        },
        {
          "data": {
            "image/png": "[encoded data removed]",
            "text/plain": [
              "<Figure size 432x288 with 1 Axes>"
            ]
          },
          "metadata": {
            "needs_background": "light"
          },
          "output_type": "display_data"
        },
        {
          "name": "stdout",
          "output_type": "stream",
          "text": [
            "TOSSE\n"
          ]
        },
        {
          "data": {
            "image/png": "[encoded data removed]",
            "text/plain": [
              "<Figure size 432x288 with 1 Axes>"
            ]
          },
          "metadata": {
            "needs_background": "light"
          },
          "output_type": "display_data"
        },
        {
          "name": "stdout",
          "output_type": "stream",
          "text": [
            "DISPNEIA\n"
          ]
        },
        {
          "data": {
            "image/png": "[encoded data removed]",
            "text/plain": [
              "<Figure size 432x288 with 1 Axes>"
            ]
          },
          "metadata": {
            "needs_background": "light"
          },
          "output_type": "display_data"
        },
        {
          "name": "stdout",
          "output_type": "stream",
          "text": [
            "GARGANTA\n"
          ]
        },
        {
          "data": {
            "image/png": "[encoded data removed]",
            "text/plain": [
              "<Figure size 432x288 with 1 Axes>"
            ]
          },
          "metadata": {
            "needs_background": "light"
          },
          "output_type": "display_data"
        },
        {
          "name": "stdout",
          "output_type": "stream",
          "text": [
            "MIALGIA\n"
          ]
        },
        {
          "data": {
            "image/png": "[encoded data removed]",
            "text/plain": [
              "<Figure size 432x288 with 1 Axes>"
            ]
          },
          "metadata": {
            "needs_background": "light"
          },
          "output_type": "display_data"
        },
        {
          "name": "stdout",
          "output_type": "stream",
          "text": [
            "CARDIOPATI\n"
          ]
        },
        {
          "data": {
            "image/png": "[encoded data removed]",
            "text/plain": [
              "<Figure size 432x288 with 1 Axes>"
            ]
          },
          "metadata": {
            "needs_background": "light"
          },
          "output_type": "display_data"
        },
        {
          "name": "stdout",
          "output_type": "stream",
          "text": [
            "PNEUMOPATI\n"
          ]
        },
        {
          "data": {
            "image/png": "[encoded data removed]",
            "text/plain": [
              "<Figure size 432x288 with 1 Axes>"
            ]
          },
          "metadata": {
            "needs_background": "light"
          },
          "output_type": "display_data"
        },
        {
          "name": "stdout",
          "output_type": "stream",
          "text": [
            "RENAL\n"
          ]
        },
        {
          "data": {
            "image/png": "[encoded data removed]",
            "text/plain": [
              "<Figure size 432x288 with 1 Axes>"
            ]
          },
          "metadata": {
            "needs_background": "light"
          },
          "output_type": "display_data"
        },
        {
          "name": "stdout",
          "output_type": "stream",
          "text": [
            "IMUNODEPRE\n"
          ]
        },
        {
          "data": {
            "image/png": "[encoded data removed]",
            "text/plain": [
              "<Figure size 432x288 with 1 Axes>"
            ]
          },
          "metadata": {
            "needs_background": "light"
          },
          "output_type": "display_data"
        },
        {
          "name": "stdout",
          "output_type": "stream",
          "text": [
            "METABOLICA\n"
          ]
        },
        {
          "data": {
            "image/png": "[encoded data removed]",
            "text/plain": [
              "<Figure size 432x288 with 1 Axes>"
            ]
          },
          "metadata": {
            "needs_background": "light"
          },
          "output_type": "display_data"
        },
        {
          "name": "stdout",
          "output_type": "stream",
          "text": [
            "INFLUENZA\n"
          ]
        },
        {
          "data": {
            "image/png": "[encoded data removed]",
            "text/plain": [
              "<Figure size 432x288 with 1 Axes>"
            ]
          },
          "metadata": {
            "needs_background": "light"
          },
          "output_type": "display_data"
        }
      ],
      "source": [
        "import numpy as np\n",
        "for x in df:\n",
        "  arr = []\n",
        "  for y in df[x]:\n",
        "    if(not np.isnan(y)):\n",
        "      arr.append(y);\n",
        "  print(x);\n",
        "  plt.hist(arr)\n",
        "  plt.show() "
      ]
    }
  ],
  "metadata": {
    "colab": {
      "provenance": []
    },
    "kernelspec": {
      "display_name": "Python 3",
      "name": "python3"
    },
    "language_info": {
      "codemirror_mode": {
        "name": "ipython",
        "version": 3
      },
      "file_extension": ".py",
      "mimetype": "text/x-python",
      "name": "python",
      "nbconvert_exporter": "python",
      "pygments_lexer": "ipython3",
      "version": "3.10.2"
    }
  },
  "nbformat": 4,
  "nbformat_minor": 0
}
