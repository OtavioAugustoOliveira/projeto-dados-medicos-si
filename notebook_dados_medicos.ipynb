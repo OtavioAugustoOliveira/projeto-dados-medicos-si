{
  "nbformat": 4,
  "nbformat_minor": 0,
  "metadata": {
    "colab": {
      "provenance": []
    },
    "kernelspec": {
      "name": "python3",
      "display_name": "Python 3"
    },
    "language_info": {
      "name": "python"
    }
  },
  "cells": [
    {
      "cell_type": "code",
      "execution_count": null,
      "metadata": {
        "colab": {
          "base_uri": "https://localhost:8080/",
          "height": 348
        },
        "id": "7BEFdoXjprJi",
        "outputId": "8c3ccfd4-c41a-42b4-9dc1-8e94ac91aa58"
      },
      "outputs": [
        {
          "output_type": "error",
          "ename": "KeyboardInterrupt",
          "evalue": "ignored",
          "traceback": [
            "\u001b[0;31m---------------------------------------------------------------------------\u001b[0m",
            "\u001b[0;31mKeyboardInterrupt\u001b[0m                         Traceback (most recent call last)",
            "\u001b[0;32m<ipython-input-1-98178b4700db>\u001b[0m in \u001b[0;36m<cell line: 5>\u001b[0;34m()\u001b[0m\n\u001b[1;32m      3\u001b[0m \u001b[0;32mimport\u001b[0m \u001b[0mmatplotlib\u001b[0m\u001b[0;34m.\u001b[0m\u001b[0mpyplot\u001b[0m \u001b[0;32mas\u001b[0m \u001b[0mplt\u001b[0m\u001b[0;34m\u001b[0m\u001b[0;34m\u001b[0m\u001b[0m\n\u001b[1;32m      4\u001b[0m \u001b[0;32mfrom\u001b[0m \u001b[0mdatetime\u001b[0m \u001b[0;32mimport\u001b[0m \u001b[0mdatetime\u001b[0m\u001b[0;34m\u001b[0m\u001b[0;34m\u001b[0m\u001b[0m\n\u001b[0;32m----> 5\u001b[0;31m \u001b[0mdrive\u001b[0m\u001b[0;34m.\u001b[0m\u001b[0mmount\u001b[0m\u001b[0;34m(\u001b[0m\u001b[0;34m'/content/gdrive'\u001b[0m\u001b[0;34m)\u001b[0m\u001b[0;34m\u001b[0m\u001b[0;34m\u001b[0m\u001b[0m\n\u001b[0m",
            "\u001b[0;32m/usr/local/lib/python3.9/dist-packages/google/colab/drive.py\u001b[0m in \u001b[0;36mmount\u001b[0;34m(mountpoint, force_remount, timeout_ms, readonly)\u001b[0m\n\u001b[1;32m    101\u001b[0m \u001b[0;32mdef\u001b[0m \u001b[0mmount\u001b[0m\u001b[0;34m(\u001b[0m\u001b[0mmountpoint\u001b[0m\u001b[0;34m,\u001b[0m \u001b[0mforce_remount\u001b[0m\u001b[0;34m=\u001b[0m\u001b[0;32mFalse\u001b[0m\u001b[0;34m,\u001b[0m \u001b[0mtimeout_ms\u001b[0m\u001b[0;34m=\u001b[0m\u001b[0;36m120000\u001b[0m\u001b[0;34m,\u001b[0m \u001b[0mreadonly\u001b[0m\u001b[0;34m=\u001b[0m\u001b[0;32mFalse\u001b[0m\u001b[0;34m)\u001b[0m\u001b[0;34m:\u001b[0m\u001b[0;34m\u001b[0m\u001b[0;34m\u001b[0m\u001b[0m\n\u001b[1;32m    102\u001b[0m   \u001b[0;34m\"\"\"Mount your Google Drive at the specified mountpoint path.\"\"\"\u001b[0m\u001b[0;34m\u001b[0m\u001b[0;34m\u001b[0m\u001b[0m\n\u001b[0;32m--> 103\u001b[0;31m   return _mount(\n\u001b[0m\u001b[1;32m    104\u001b[0m       \u001b[0mmountpoint\u001b[0m\u001b[0;34m,\u001b[0m\u001b[0;34m\u001b[0m\u001b[0;34m\u001b[0m\u001b[0m\n\u001b[1;32m    105\u001b[0m       \u001b[0mforce_remount\u001b[0m\u001b[0;34m=\u001b[0m\u001b[0mforce_remount\u001b[0m\u001b[0;34m,\u001b[0m\u001b[0;34m\u001b[0m\u001b[0;34m\u001b[0m\u001b[0m\n",
            "\u001b[0;32m/usr/local/lib/python3.9/dist-packages/google/colab/drive.py\u001b[0m in \u001b[0;36m_mount\u001b[0;34m(mountpoint, force_remount, timeout_ms, ephemeral, readonly)\u001b[0m\n\u001b[1;32m    130\u001b[0m   )\n\u001b[1;32m    131\u001b[0m   \u001b[0;32mif\u001b[0m \u001b[0mephemeral\u001b[0m\u001b[0;34m:\u001b[0m\u001b[0;34m\u001b[0m\u001b[0;34m\u001b[0m\u001b[0m\n\u001b[0;32m--> 132\u001b[0;31m     _message.blocking_request(\n\u001b[0m\u001b[1;32m    133\u001b[0m         \u001b[0;34m'request_auth'\u001b[0m\u001b[0;34m,\u001b[0m \u001b[0mrequest\u001b[0m\u001b[0;34m=\u001b[0m\u001b[0;34m{\u001b[0m\u001b[0;34m'authType'\u001b[0m\u001b[0;34m:\u001b[0m \u001b[0;34m'dfs_ephemeral'\u001b[0m\u001b[0;34m}\u001b[0m\u001b[0;34m,\u001b[0m \u001b[0mtimeout_sec\u001b[0m\u001b[0;34m=\u001b[0m\u001b[0;32mNone\u001b[0m\u001b[0;34m\u001b[0m\u001b[0;34m\u001b[0m\u001b[0m\n\u001b[1;32m    134\u001b[0m     )\n",
            "\u001b[0;32m/usr/local/lib/python3.9/dist-packages/google/colab/_message.py\u001b[0m in \u001b[0;36mblocking_request\u001b[0;34m(request_type, request, timeout_sec, parent)\u001b[0m\n\u001b[1;32m    175\u001b[0m       \u001b[0mrequest_type\u001b[0m\u001b[0;34m,\u001b[0m \u001b[0mrequest\u001b[0m\u001b[0;34m,\u001b[0m \u001b[0mparent\u001b[0m\u001b[0;34m=\u001b[0m\u001b[0mparent\u001b[0m\u001b[0;34m,\u001b[0m \u001b[0mexpect_reply\u001b[0m\u001b[0;34m=\u001b[0m\u001b[0;32mTrue\u001b[0m\u001b[0;34m\u001b[0m\u001b[0;34m\u001b[0m\u001b[0m\n\u001b[1;32m    176\u001b[0m   )\n\u001b[0;32m--> 177\u001b[0;31m   \u001b[0;32mreturn\u001b[0m \u001b[0mread_reply_from_input\u001b[0m\u001b[0;34m(\u001b[0m\u001b[0mrequest_id\u001b[0m\u001b[0;34m,\u001b[0m \u001b[0mtimeout_sec\u001b[0m\u001b[0;34m)\u001b[0m\u001b[0;34m\u001b[0m\u001b[0;34m\u001b[0m\u001b[0m\n\u001b[0m",
            "\u001b[0;32m/usr/local/lib/python3.9/dist-packages/google/colab/_message.py\u001b[0m in \u001b[0;36mread_reply_from_input\u001b[0;34m(message_id, timeout_sec)\u001b[0m\n\u001b[1;32m     95\u001b[0m     \u001b[0mreply\u001b[0m \u001b[0;34m=\u001b[0m \u001b[0m_read_next_input_message\u001b[0m\u001b[0;34m(\u001b[0m\u001b[0;34m)\u001b[0m\u001b[0;34m\u001b[0m\u001b[0;34m\u001b[0m\u001b[0m\n\u001b[1;32m     96\u001b[0m     \u001b[0;32mif\u001b[0m \u001b[0mreply\u001b[0m \u001b[0;34m==\u001b[0m \u001b[0m_NOT_READY\u001b[0m \u001b[0;32mor\u001b[0m \u001b[0;32mnot\u001b[0m \u001b[0misinstance\u001b[0m\u001b[0;34m(\u001b[0m\u001b[0mreply\u001b[0m\u001b[0;34m,\u001b[0m \u001b[0mdict\u001b[0m\u001b[0;34m)\u001b[0m\u001b[0;34m:\u001b[0m\u001b[0;34m\u001b[0m\u001b[0;34m\u001b[0m\u001b[0m\n\u001b[0;32m---> 97\u001b[0;31m       \u001b[0mtime\u001b[0m\u001b[0;34m.\u001b[0m\u001b[0msleep\u001b[0m\u001b[0;34m(\u001b[0m\u001b[0;36m0.025\u001b[0m\u001b[0;34m)\u001b[0m\u001b[0;34m\u001b[0m\u001b[0;34m\u001b[0m\u001b[0m\n\u001b[0m\u001b[1;32m     98\u001b[0m       \u001b[0;32mcontinue\u001b[0m\u001b[0;34m\u001b[0m\u001b[0;34m\u001b[0m\u001b[0m\n\u001b[1;32m     99\u001b[0m     if (\n",
            "\u001b[0;31mKeyboardInterrupt\u001b[0m: "
          ]
        }
      ],
      "source": [
        "import pandas as pd\n",
        "from google.colab import drive\n",
        "import matplotlib.pyplot as plt\n",
        "from datetime import datetime\n",
        "drive.mount('/content/gdrive')"
      ]
    },
    {
      "cell_type": "code",
      "source": [
        "df = pd.read_csv('gdrive/MyDrive/dados_medicos/INFLUD18.csv', sep = ';', encoding = 'ISO-8859-1')"
      ],
      "metadata": {
        "id": "nQuu3-E-qg6h"
      },
      "execution_count": null,
      "outputs": []
    },
    {
      "cell_type": "code",
      "source": [
        "df.head()"
      ],
      "metadata": {
        "id": "KDUDsdX7tqZT"
      },
      "execution_count": null,
      "outputs": []
    },
    {
      "cell_type": "markdown",
      "source": [
        "Pré-processamento dos dados"
      ],
      "metadata": {
        "id": "9WSlWjnGWUW4"
      }
    },
    {
      "cell_type": "code",
      "source": [
        "#elegemos a segintes variáveis como valiosas para nossa solução\n",
        "valuable_infos = ['VACINA','FEBRE','TOSSE','CALAFRIO','DISPNEIA','GARGANTA','ARTRALGIA','MIALGIA','CONJUNTIV','CORIZA','DIARREIA','CARDIOPATI','PNEUMOPATI','RENAL','HEMOGLOBI','IMUNODEPRE','TABAGISMO','METABOLICA','NU_IDADE_N', 'CLASSI_FIN']\n",
        "\n",
        "#removendo todas as colunas que não temos interesse\n",
        "for x in df:\n",
        "  if(not x in valuable_infos):\n",
        "    df = df.drop(x, axis='columns')\n",
        "\n",
        "#removendo todas as colunas com mais de 75% de ausência de dados\n",
        "for x in valuable_infos:\n",
        "  if(df[x].isnull().sum() > len(df)*3/4):\n",
        "    df = df.drop(x, axis='columns')"
      ],
      "metadata": {
        "id": "riyRml7338OM"
      },
      "execution_count": null,
      "outputs": []
    },
    {
      "cell_type": "code",
      "source": [
        "print(df.head())\n",
        "print(df.isnull().sum())"
      ],
      "metadata": {
        "id": "7TwTgfdf4vo8"
      },
      "execution_count": null,
      "outputs": []
    },
    {
      "cell_type": "code",
      "source": [
        "#como das colunas que restaram tivemos muito poucos dados ausentes,\n",
        "#decidimos simplesmente remover todas as linhas com alguma ausência\n",
        "initial_dataset_length = len(df)\n",
        "rows_to_be_removed = []\n",
        "for index, row in df.iterrows():\n",
        "  if(row.isnull().values.any()):\n",
        "    rows_to_be_removed.append(index)\n",
        "\n",
        "df = df.drop(index=rows_to_be_removed)\n",
        "df = df.reset_index(drop=True)\n",
        "print(df.head())\n",
        "\n",
        "current_dataset_length = len(df)\n",
        "n_removed_rows = initial_dataset_length - current_dataset_length\n",
        "percentage_preserved_rows = round(current_dataset_length/initial_dataset_length, 2)\n",
        "print(f'number of rows removed from datase {n_removed_rows}, ou seja, preservamos {percentage_preserved_rows}% do dataset')"
      ],
      "metadata": {
        "id": "5SBOyrgpq56c"
      },
      "execution_count": null,
      "outputs": []
    },
    {
      "cell_type": "code",
      "source": [
        "#Agora discretizaremos a coluna 'NU_IDADE_N' nas seguintes categorias:\n",
        "  # Bebê: até 1 ano de idade = 0\n",
        "  # Criança: 1 a 12 anos de idade = 1\n",
        "  # Adolescente: 13 a 18 anos de idade = 2\n",
        "  # Jovem adulto: 19 a 35 anos de idade = 3\n",
        "  # Adulto: 36 a 59 anos de idade = 4\n",
        "  # Idoso: 60 anos ou mais = 5\n",
        "\n",
        "def get_faixa_etaria(age_in_years):\n",
        "  if(age_in_years <= 12):\n",
        "    return 1\n",
        "  elif(age_in_years <= 18):\n",
        "    return 2\n",
        "  elif(age_in_years <= 35):\n",
        "    return 3\n",
        "  elif(age_in_years <= 59):\n",
        "    return 4\n",
        "  return 5\n",
        "\n",
        "faixa_etaria_col = []\n",
        "for index, row in df.iterrows():\n",
        "  age_var = int(row['NU_IDADE_N'])\n",
        "  if(age_var < 1000):\n",
        "    print('aaaaaaaa')\n",
        "  if(age_var < 4000):\n",
        "    faixa_etaria_col.append(0)\n",
        "    continue\n",
        "  \n",
        "  age_in_years = age_var - 4000\n",
        "  faixa_etaria_col.append(get_faixa_etaria(age_in_years))\n",
        "\n",
        "df['FAIXA_ETARIA'] = faixa_etaria_col\n"
      ],
      "metadata": {
        "id": "yhxONNn2sgqA"
      },
      "execution_count": null,
      "outputs": []
    },
    {
      "cell_type": "code",
      "source": [
        "df.head(50)"
      ],
      "metadata": {
        "id": "RUa7cOGiZYZo"
      },
      "execution_count": null,
      "outputs": []
    },
    {
      "cell_type": "code",
      "source": [
        "plt.hist(df['CLASSI_FIN'])\n",
        "plt.show() "
      ],
      "metadata": {
        "id": "SSCuSLboZ7WI"
      },
      "execution_count": null,
      "outputs": []
    },
    {
      "cell_type": "code",
      "source": [
        "mp = {}\n",
        "for x in range(10):\n",
        "  mp[x] = 0\n",
        "\n",
        "for index, row in df.iterrows():\n",
        "  mp[row['CLASSI_FIN']] += 1\n",
        "\n",
        "print(mp)\n",
        "\n",
        "total = 0\n",
        "for x in mp:\n",
        "  if(x != 1):\n",
        "    total += mp[x]\n",
        "print(total)"
      ],
      "metadata": {
        "id": "I3fYVzYkaiRM"
      },
      "execution_count": null,
      "outputs": []
    },
    {
      "cell_type": "code",
      "source": [
        "important_cols = ['VACINA','FEBRE','TOSSE','DISPNEIA','GARGANTA','MIALGIA','CARDIOPATI','PNEUMOPATI','RENAL','IMUNODEPRE','METABOLICA','CLASSI_FIN', 'DT_NASC']\n",
        "\n",
        "for x in df:\n",
        "  if not x in important_cols:\n",
        "    df = df.drop(x, axis=1)\n",
        "\n",
        "rows_to_be_removed = []\n",
        "for index, row in df.iterrows():\n",
        "  if(row.isnull().values.any()):\n",
        "    # print(row)\n",
        "    # print(index)\n",
        "    rows_to_be_removed.append(index)\n",
        "\n",
        "df = df.drop(index=rows_to_be_removed)\n",
        "print(df.head())"
      ],
      "metadata": {
        "id": "Cz1dLsGniAb-"
      },
      "execution_count": null,
      "outputs": []
    },
    {
      "cell_type": "code",
      "source": [
        "len(df)"
      ],
      "metadata": {
        "id": "gHBQ1zsDjsEO"
      },
      "execution_count": null,
      "outputs": []
    },
    {
      "cell_type": "code",
      "source": [
        "important_cols = ['VACINA','FEBRE','TOSSE','DISPNEIA','GARGANTA','MIALGIA','CARDIOPATI','PNEUMOPATI','RENAL','IMUNODEPRE','METABOLICA','CLASSI_FIN']\n",
        "\n",
        "for x in df:\n",
        "  # print(df[x].isnull().sum())\n",
        "  # if(df[x].isnull().sum() <  2000):\n",
        "  if(df[x].isnull().sum() < 2000):\n",
        "    print(x)"
      ],
      "metadata": {
        "id": "JQAPikhUq8CP"
      },
      "execution_count": null,
      "outputs": []
    },
    {
      "cell_type": "code",
      "source": [
        "missin_values_interval = [] #0-25, 25-50, 50-75, 75-100\n",
        "for column in df:\n",
        "  if(df[column].isnull().sum() < n_lines / 4): \n",
        "    print(column)\n",
        "    missin_values_interval.append('0-25')\n",
        "  elif(df[column].isnull().sum() < n_lines / 2): \n",
        "    missin_values_interval.append('25-50')\n",
        "  elif(df[column].isnull().sum() < n_lines * 3 / 4): \n",
        "    missin_values_interval.append('50-75')\n",
        "  else:\n",
        "    # print(column)\n",
        "    missin_values_interval.append('75-100')\n",
        "\n",
        "missin_values_interval.sort()\n",
        "plt.hist(missin_values_interval)\n",
        "plt.show() "
      ],
      "metadata": {
        "id": "4K7GoCeW8y5i"
      },
      "execution_count": null,
      "outputs": []
    },
    {
      "cell_type": "code",
      "source": [
        "import numpy as np\n",
        "for x in df:\n",
        "  arr = []\n",
        "  for y in df[x]:\n",
        "    if(not np.isnan(y)):\n",
        "      arr.append(y);\n",
        "  print(x);\n",
        "  plt.hist(arr)\n",
        "  plt.show() "
      ],
      "metadata": {
        "id": "KYhykfy99iAr"
      },
      "execution_count": null,
      "outputs": []
    },
    {
      "cell_type": "code",
      "source": [
        "plt.hist(df['CLASSI_FIN'])\n",
        "plt.show() "
      ],
      "metadata": {
        "id": "Y3uWbHG9QXnu"
      },
      "execution_count": null,
      "outputs": []
    },
    {
      "cell_type": "code",
      "source": [
        "for x in df:\n",
        "  print(x)"
      ],
      "metadata": {
        "id": "1xTsSqXC5_bE"
      },
      "execution_count": null,
      "outputs": []
    }
  ]
}